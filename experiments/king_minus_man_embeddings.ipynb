{
 "cells": [
  {
   "cell_type": "markdown",
   "id": "323d72bf-4338-4001-a71f-60145897addd",
   "metadata": {},
   "source": [
    "# King - Man + Woman = Queen"
   ]
  },
  {
   "cell_type": "markdown",
   "id": "f5c18d96-1f08-4221-aca5-ffde8211df16",
   "metadata": {},
   "source": [
    "There is a common adage about how `king - man + woman = queen` features in most/all semantic vector space models. I loved this when I first heard it. It sounds so fascinating both mathematically and linguistically! But I've never actually explored it. **UNTIL NOW...**"
   ]
  },
  {
   "cell_type": "code",
   "execution_count": 1,
   "id": "e65dcae2-8951-4c1c-8a5b-ddd9353c5ba8",
   "metadata": {},
   "outputs": [
    {
     "name": "stderr",
     "output_type": "stream",
     "text": [
      "/Users/martin/Data/venv/lib/python3.12/site-packages/sentence_transformers/cross_encoder/CrossEncoder.py:13: TqdmWarning: IProgress not found. Please update jupyter and ipywidgets. See https://ipywidgets.readthedocs.io/en/stable/user_install.html\n",
      "  from tqdm.autonotebook import tqdm, trange\n"
     ]
    }
   ],
   "source": [
    "from sentence_transformers import SentenceTransformer\n",
    "import itertools\n",
    "import numpy as np\n",
    "import pandas as pd\n",
    "import seaborn as sns"
   ]
  },
  {
   "cell_type": "code",
   "execution_count": 2,
   "id": "ce33ff39-c406-4bf7-b620-ea060776fa5e",
   "metadata": {},
   "outputs": [],
   "source": [
    "model = SentenceTransformer(\"all-MiniLM-L6-v2\")"
   ]
  },
  {
   "cell_type": "code",
   "execution_count": 3,
   "id": "711cd790-a170-411c-b029-24a820ddd2e2",
   "metadata": {},
   "outputs": [],
   "source": [
    "words = [\"king\", \"man\", \"woman\", \"queen\"]"
   ]
  },
  {
   "cell_type": "markdown",
   "id": "2c3bcdba-44bc-4a73-9e29-98940b5e50d2",
   "metadata": {},
   "source": [
    "We'll encode all our individual words so we can do a little vector arithmetic on them in a jiffy..."
   ]
  },
  {
   "cell_type": "code",
   "execution_count": 4,
   "id": "9ed23c7a-f5ee-47fe-9360-bfe31980fb09",
   "metadata": {},
   "outputs": [],
   "source": [
    "embeddings = model.encode(words)"
   ]
  },
  {
   "cell_type": "code",
   "execution_count": 5,
   "id": "355feb17-8aee-46f3-abd8-60a16bebde84",
   "metadata": {},
   "outputs": [
    {
     "data": {
      "text/plain": [
       "(4, 384)"
      ]
     },
     "execution_count": 5,
     "metadata": {},
     "output_type": "execute_result"
    }
   ],
   "source": [
    "embeddings.shape"
   ]
  },
  {
   "cell_type": "code",
   "execution_count": 6,
   "id": "4e6daf86-b545-4abf-a794-59121c1bc74c",
   "metadata": {},
   "outputs": [],
   "source": [
    "vectors = {\n",
    "    \"king\": embeddings[0],\n",
    "    \"man\": embeddings[1],\n",
    "    \"woman\": embeddings[2],\n",
    "    \"queen\": embeddings[3]\n",
    "}"
   ]
  },
  {
   "cell_type": "code",
   "execution_count": 7,
   "id": "f389aaac-3dad-4f52-83da-c7a23bbd0839",
   "metadata": {},
   "outputs": [],
   "source": [
    "supposedly_queen = vectors[\"king\"] - vectors[\"man\"] + vectors[\"woman\"] # the famous equation"
   ]
  },
  {
   "cell_type": "markdown",
   "id": "dab1c67c-7d62-4e99-9aae-43de3b9f008a",
   "metadata": {},
   "source": [
    "$$ \\text{cosine similarity} = \\frac{a \\cdot b}{\\|a\\| \\|b\\|} $$\n",
    "\n",
    "Cosine similarity helps determine the similarity between two vectors, which can be tricky when they're 384 dimensions. A cosine similarity of `1` means the vectors are identical in direction, `0` indicates no similarity and `-1` shows they are diametrically opposed."
   ]
  },
  {
   "cell_type": "code",
   "execution_count": 8,
   "id": "4136f3d2-e89b-4550-8c58-a6734e650ab2",
   "metadata": {},
   "outputs": [],
   "source": [
    "# we can import this from something like scikit, but if you ask me writing it makes it feel less scary...\n",
    "def cosine_similarity(a, b):\n",
    "    return np.dot(a, b) / (np.linalg.norm(a) * np.linalg.norm(b))"
   ]
  },
  {
   "cell_type": "code",
   "execution_count": 9,
   "id": "5f35d165-c7be-4233-8bc6-35c00f40f785",
   "metadata": {},
   "outputs": [],
   "source": [
    "df = pd.DataFrame([[\"king\", cosine_similarity(vectors[\"king\"], supposedly_queen)], [\"queen\", cosine_similarity(vectors[\"queen\"], supposedly_queen)]], columns=[\"vectorised word\", \"cosine similarity to king - man + woman\"]).set_index(\"vectorised word\")"
   ]
  },
  {
   "cell_type": "code",
   "execution_count": 10,
   "id": "d5411cd0-24fc-4dd5-864b-40590243b25c",
   "metadata": {},
   "outputs": [
    {
     "data": {
      "text/plain": [
       "<Axes: xlabel='vectorised word', ylabel='cosine similarity to king - man + woman'>"
      ]
     },
     "execution_count": 10,
     "metadata": {},
     "output_type": "execute_result"
    },
    {
     "data": {
      "image/png": "[encoded data removed]",
      "text/plain": [
       "<Figure size 640x480 with 1 Axes>"
      ]
     },
     "metadata": {},
     "output_type": "display_data"
    }
   ],
   "source": [
    "sns.barplot(x=df.index, y=df[\"cosine similarity to king - man + woman\"], hue=df.index)"
   ]
  },
  {
   "cell_type": "markdown",
   "id": "ccbfb965-b9ef-45de-b76f-84b09a400de1",
   "metadata": {},
   "source": [
    "What a bummer! \n",
    "\n",
    "- It's not a _perfect_ similarity, like `king - man + woman = queen` suggests.\n",
    "- At least with the `all-MiniLM-L6-v2` model, the vector for `king - man + woman` is actually _more_ similar to the vector for `king` than `queen`.\n",
    "- I probably need to check more about whether you can use embeddings atomically like this. "
   ]
  }
 ],
 "metadata": {
  "kernelspec": {
   "display_name": "/Users/martin/Data",
   "language": "python",
   "name": "data"
  },
  "language_info": {
   "codemirror_mode": {
    "name": "ipython",
    "version": 3
   },
   "file_extension": ".py",
   "mimetype": "text/x-python",
   "name": "python",
   "nbconvert_exporter": "python",
   "pygments_lexer": "ipython3",
   "version": "3.12.4"
  }
 },
 "nbformat": 4,
 "nbformat_minor": 5
}
